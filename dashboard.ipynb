{
  "nbformat": 4,
  "nbformat_minor": 0,
  "metadata": {
    "colab": {
      "provenance": [],
      "collapsed_sections": [
        "XW-Ewl7skxDp",
        "Znf2Ppn9qE66"
      ],
      "include_colab_link": true
    },
    "kernelspec": {
      "name": "python3",
      "display_name": "Python 3"
    }
  },
  "cells": [
    {
      "cell_type": "markdown",
      "metadata": {
        "id": "view-in-github",
        "colab_type": "text"
      },
      "source": [
        "<a href=\"https://colab.research.google.com/github/rtanas/colab_dashboard_demo/blob/main/dashboard.ipynb\" target=\"_parent\"><img src=\"https://colab.research.google.com/assets/colab-badge.svg\" alt=\"Open In Colab\"/></a>"
      ]
    },
    {
      "cell_type": "markdown",
      "metadata": {
        "id": "cCjAe20VdlxO"
      },
      "source": [
        "#Python - Non-technical introduction\n",
        "\n",
        "##SOLUTION Exercise Day 1 Block 5: \"A picture is worth a thousand words: How to create a plot (matplotlib)?\"\n",
        "\n",
        "This file provides the solutions to the exercises in the lectures.\n",
        "\n",
        "*Note:* If you want to make changes to this document, you need to save your own copy using the \"Save copy in Drive\" command in the \"File\" menu."
      ]
    },
    {
      "cell_type": "markdown",
      "metadata": {
        "id": "qpmzcnuFlexj"
      },
      "source": [
        "###Preparation\n",
        "\n",
        "**Make sure to run the follwing code before continuing.** Code will prepare everything (load data, ...)."
      ]
    },
    {
      "cell_type": "code",
      "metadata": {
        "id": "sD_8-FV6lZVl"
      },
      "source": [
        "#load pandas\n",
        "import pandas as pd\n",
        "myData=pd.read_csv(\"https://raw.githubusercontent.com/bachmannpatrick/Python-Class/master/data/transactions.csv\")"
      ],
      "execution_count": null,
      "outputs": []
    },
    {
      "cell_type": "markdown",
      "metadata": {
        "id": "XW-Ewl7skxDp"
      },
      "source": [
        "###21 - Creating basic plots"
      ]
    },
    {
      "cell_type": "markdown",
      "metadata": {
        "id": "lMP5naoWk3B_"
      },
      "source": [
        "1. Create a boxplot for the variable PurchAmount(x)."
      ]
    },
    {
      "cell_type": "code",
      "metadata": {
        "id": "hyWqP8ohk-Qr",
        "colab": {
          "base_uri": "https://localhost:8080/",
          "height": 264
        },
        "outputId": "55df565e-a4ec-40e2-c4ad-8f4cc296a647"
      },
      "source": [
        "import matplotlib.pyplot as plt\n",
        "plt.boxplot(x=myData[\"PurchAmount\"])\n",
        "plt.show()"
      ],
      "execution_count": null,
      "outputs": [
        {
          "output_type": "display_data",
          "data": {
            "text/plain": [
              "<Figure size 432x288 with 1 Axes>"
            ],
            "image/png": "[encoded data removed]"
          },
          "metadata": {
            "needs_background": "light"
          }
        }
      ]
    },
    {
      "cell_type": "markdown",
      "metadata": {
        "id": "lAKGNNSRk6r6"
      },
      "source": [
        "2. Create a scatter plot for the variables `Quantity`(x) and `PurchAmount`(y). Can you observe any correlation?"
      ]
    },
    {
      "cell_type": "code",
      "metadata": {
        "id": "mZiUd7DLk-z-",
        "colab": {
          "base_uri": "https://localhost:8080/",
          "height": 265
        },
        "outputId": "ce4e1dbe-d035-458a-84dd-4f4aa44f6831"
      },
      "source": [
        "plt.scatter(x=myData[\"Quantity\"], y=myData[\"PurchAmount\"])\n",
        "plt.show()"
      ],
      "execution_count": null,
      "outputs": [
        {
          "output_type": "display_data",
          "data": {
            "image/png": "[encoded data removed]",
            "text/plain": [
              "<Figure size 432x288 with 1 Axes>"
            ]
          },
          "metadata": {
            "needs_background": "light"
          }
        }
      ]
    },
    {
      "cell_type": "markdown",
      "metadata": {
        "id": "Znf2Ppn9qE66"
      },
      "source": [
        "###22 - Format basic plots"
      ]
    },
    {
      "cell_type": "markdown",
      "metadata": {
        "id": "jf-326eymI_W"
      },
      "source": [
        "1.Format your earlier scatter plots in an appealing way.  Choose appropriate limits for the axes.  Consider changing colors, sizes, and fonts for data points and text labels.\n"
      ]
    },
    {
      "cell_type": "code",
      "metadata": {
        "id": "mvkjTqZ8mXvV"
      },
      "source": [
        "# Plot 1\n",
        "plt.boxplot(x=myData[\"PurchAmount\"])\n",
        "plt.title(\"Boxplot of variable Purchase Amount\")\n",
        "plt.xlabel(\"Purchase Amount\", size=10,fontweight='bold')\n",
        "plt.ylabel(\"Frequency\", size=10,fontweight='bold')\n",
        "plt.show()"
      ],
      "execution_count": null,
      "outputs": []
    },
    {
      "cell_type": "code",
      "metadata": {
        "id": "BZQCwEPwmYcR"
      },
      "source": [
        "#%% Plot 2\n",
        "plt.scatter(x=myData[\"Quantity\"], y=myData[\"PurchAmount\"], color=\"green\")\n",
        "plt.title(\"Quantity by Purchase Amount\", style=\"italic\")\n",
        "plt.xlim(0,20) # One outlier will not be plotted\n",
        "plt.xlabel(\"Quantity\", size=10)\n",
        "plt.ylabel(\"Purchase Amount\", size=10)\n",
        "plt.show()"
      ],
      "execution_count": null,
      "outputs": []
    },
    {
      "cell_type": "markdown",
      "metadata": {
        "id": "L7WgG_s2mdqq"
      },
      "source": [
        "###23 - Adding further features to plots"
      ]
    },
    {
      "cell_type": "markdown",
      "metadata": {
        "id": "Pk9VLgufnl8B"
      },
      "source": [
        "1. Plot (a) the scatter plot  of Cost and `Purchase Amount` and (b) a historgram of `Purchase Amount` and in the same graph.\n",
        "\n"
      ]
    },
    {
      "cell_type": "code",
      "metadata": {
        "id": "s6MJ4ETunsVa",
        "colab": {
          "base_uri": "https://localhost:8080/",
          "height": 281
        },
        "outputId": "8ebfe1cd-06f9-454c-895d-b90cf8a6a507"
      },
      "source": [
        "plt.subplot(1,2,1) \n",
        "plt.hist(myData[\"PurchAmount\"], color=\"green\")\n",
        "plt.title(\"Hist PurchAmount\")\n",
        "plt.subplot(1,2,2)\n",
        "plt.plot(myData[\"PurchAmount\"],myData[\"Quantity\"], \"o\")\n",
        "plt.title(\"Quantity by PurchAmount\")\n",
        "plt.show()"
      ],
      "execution_count": null,
      "outputs": [
        {
          "output_type": "display_data",
          "data": {
            "image/png": "[encoded data removed]",
            "text/plain": [
              "<Figure size 432x288 with 2 Axes>"
            ]
          },
          "metadata": {
            "tags": [],
            "needs_background": "light"
          }
        }
      ]
    }
  ]
}